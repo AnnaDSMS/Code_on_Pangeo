{
 "cells": [
  {
   "cell_type": "code",
   "execution_count": 1,
   "metadata": {},
   "outputs": [
    {
     "data": {
      "application/vnd.jupyter.widget-view+json": {
       "model_id": "f30dd621c363435998636602c598be68",
       "version_major": 2,
       "version_minor": 0
      },
      "text/plain": [
       "VBox(children=(HTML(value='<h2>KubeCluster</h2>'), HBox(children=(HTML(value='\\n<div>\\n  <style scoped>\\n    .…"
      ]
     },
     "metadata": {},
     "output_type": "display_data"
    }
   ],
   "source": [
    "from dask.distributed import Client, progress\n",
    "# HPC\n",
    "# client = Client(scheduler_file='/glade/scratch/jhamman/scheduler.json')\n",
    "# client\n",
    "\n",
    "from dask_kubernetes import KubeCluster\n",
    "cluster = KubeCluster(n_workers=10)\n",
    "cluster"
   ]
  },
  {
   "cell_type": "code",
   "execution_count": 2,
   "metadata": {},
   "outputs": [
    {
     "data": {
      "text/html": [
       "<table style=\"border: 2px solid white;\">\n",
       "<tr>\n",
       "<td style=\"vertical-align: top; border: 0px solid white\">\n",
       "<h3 style=\"text-align: left;\">Client</h3>\n",
       "<ul style=\"text-align: left; list-style: none; margin: 0; padding: 0;\">\n",
       "  <li><b>Scheduler: </b>tcp://10.32.60.90:43455</li>\n",
       "  <li><b>Dashboard: </b><a href='/user/0000-0002-9124-2827/proxy/8787/status' target='_blank'>/user/0000-0002-9124-2827/proxy/8787/status</a>\n",
       "</ul>\n",
       "</td>\n",
       "<td style=\"vertical-align: top; border: 0px solid white\">\n",
       "<h3 style=\"text-align: left;\">Cluster</h3>\n",
       "<ul style=\"text-align: left; list-style:none; margin: 0; padding: 0;\">\n",
       "  <li><b>Workers: </b>0</li>\n",
       "  <li><b>Cores: </b>0</li>\n",
       "  <li><b>Memory: </b>0 B</li>\n",
       "</ul>\n",
       "</td>\n",
       "</tr>\n",
       "</table>"
      ],
      "text/plain": [
       "<Client: scheduler='tcp://10.32.60.90:43455' processes=0 cores=0>"
      ]
     },
     "execution_count": 2,
     "metadata": {},
     "output_type": "execute_result"
    }
   ],
   "source": [
    "client = Client(cluster)\n",
    "client"
   ]
  },
  {
   "cell_type": "code",
   "execution_count": 3,
   "metadata": {},
   "outputs": [],
   "source": [
    "from netCDF4 import Dataset\n",
    "import numpy as np\n",
    "import matplotlib.pyplot as plt\n",
    "import matplotlib.ticker as mticker\n",
    "import cartopy.crs as ccrs\n",
    "\n",
    "import sys\n",
    "### general purpose\n",
    "import os\n",
    "import xarray as xr\n",
    "import pandas as pd\n",
    "### palette\n",
    "import matplotlib.cm as mplcm\n",
    "#import matplotlib.cm as cm\n",
    "#div_cmap = mplcm.seismic\n",
    "import cmocean\n",
    "from cmocean import cm\n",
    "import matplotlib.pyplot as plt\n",
    "import cartopy.crs as ccrs\n",
    "import scipy.io as sio\n",
    "\n",
    "import time"
   ]
  },
  {
   "cell_type": "code",
   "execution_count": 4,
   "metadata": {},
   "outputs": [],
   "source": [
    "import gcsfs\n",
    "\n",
    "fs = gcsfs.GCSFileSystem(project='pangeo-181919', token='anon', access='read_only')\n",
    "gcs = gcsfs.GCSFileSystem(gcs=fs,check=False,create=False)\n",
    "gcsmapgrid=gcs.get_mapper('pangeo-data/eNATL60-I/zarr_coord_eNATL60')\n",
    "dsgrid_eNATL=xr.open_zarr(gcsmapgrid)"
   ]
  },
  {
   "cell_type": "code",
   "execution_count": 5,
   "metadata": {},
   "outputs": [],
   "source": [
    "lat=dsgrid_eNATL.nav_lat\n",
    "lon=dsgrid_eNATL.nav_lon"
   ]
  },
  {
   "cell_type": "code",
   "execution_count": 6,
   "metadata": {},
   "outputs": [],
   "source": [
    "gcsmapgrid_ORCA = gcs.get_mapper('pangeo-data/eORCA1-I/zarr_IPSLCM6ALR_eORCA1.2_mesh_mask')\n",
    "dsgrid_ORCA = xr.open_zarr(gcsmapgrid_ORCA)"
   ]
  },
  {
   "cell_type": "code",
   "execution_count": 7,
   "metadata": {},
   "outputs": [],
   "source": [
    "lat_ORCA=dsgrid_ORCA.nav_lat\n",
    "lon_ORCA=dsgrid_ORCA.nav_lon"
   ]
  },
  {
   "cell_type": "code",
   "execution_count": 8,
   "metadata": {},
   "outputs": [],
   "source": [
    "latmin = 56.; latmax = 61.\n",
    "lonmin = -55.; lonmax = -50."
   ]
  },
  {
   "cell_type": "code",
   "execution_count": 9,
   "metadata": {},
   "outputs": [],
   "source": [
    "def read_datagrid(lat,lon,latmin=None,latmax=None,lonmin=None,lonmax=None):\n",
    "    domain = (lonmin<lon.values) * (lon.values<lonmax) * (latmin<lat.values) * (lat.values<latmax)\n",
    "    where = np.where(domain)\n",
    "    vlats = lat.values[where]\n",
    "    vlons = lon.values[where]\n",
    "    #get indice\n",
    "    jmin = where[0][vlats.argmin()]\n",
    "    jmax = where[0][vlats.argmax()]\n",
    "    imin = where[1][vlons.argmin()]\n",
    "    imax = where[1][vlons.argmax()]\n",
    "    navlon = lon.values[jmin:jmax+1,imin:imax+1]\n",
    "    navlat = lat.values[jmin:jmax+1,imin:imax+1]\n",
    "    return navlon,navlat,jmin,jmax,imin,imax"
   ]
  },
  {
   "cell_type": "code",
   "execution_count": 10,
   "metadata": {},
   "outputs": [],
   "source": [
    "domain = (lonmin<lon_ORCA) * (lon_ORCA<lonmax) * (latmin<lat_ORCA) * (lat_ORCA<latmax)\n",
    "where = np.where(domain)\n",
    "vlats = lat_ORCA.values[where]\n",
    "vlons = lon_ORCA.values[where]\n",
    "#get indice\n",
    "jmin_ORCA = where[0][vlats.argmin()]\n",
    "jmax_ORCA = where[0][vlats.argmax()]\n",
    "imin_ORCA = where[1][vlons.argmin()]\n",
    "imax_ORCA = where[1][vlons.argmax()]\n",
    "#load arrays\n",
    "navlon_ORCA = lon_ORCA.values[jmin_ORCA:jmax_ORCA+1,imin_ORCA:imax_ORCA+1]\n",
    "navlat_ORCA = lat_ORCA.values[jmin_ORCA:jmax_ORCA+1,imin_ORCA:imax_ORCA+1]"
   ]
  },
  {
   "cell_type": "code",
   "execution_count": null,
   "metadata": {},
   "outputs": [
    {
     "name": "stdout",
     "output_type": "stream",
     "text": [
      "40.0\n",
      "Box_0\n",
      "Box_1\n",
      "Box_2\n",
      "Box_3\n",
      "Box_4\n",
      "Box_5\n",
      "Box_6\n",
      "Box_7\n",
      "Box_8\n",
      "Box_9\n",
      "Box_10\n",
      "Box_11\n",
      "Box_12\n",
      "Box_13\n",
      "Box_14\n",
      "Box_15\n",
      "Box_16\n",
      "Box_17\n",
      "Box_18\n",
      "Box_19\n",
      "Box_20\n",
      "Box_21\n",
      "Box_22\n",
      "Box_23\n",
      "Box_24\n",
      "Box_25\n",
      "Box_26\n",
      "Box_27\n",
      "Box_28\n",
      "Box_29\n",
      "Box_30\n"
     ]
    }
   ],
   "source": [
    "# - Define box dimensions\n",
    "a = (np.shape(navlon_ORCA)[0]-1.)*(np.shape(navlat_ORCA)[1]-1.)\n",
    "Box_arr = np.empty((int(a),6),dtype=np.dtype('U100'))\n",
    "print(a)\n",
    "\n",
    "ii = 0\n",
    "jj = 0\n",
    "for i in np.arange(0,int(a),1):\n",
    "    Box_arr[i,:] = [str(navlat_ORCA[ii,jj]),str(navlat_ORCA[ii+1,jj]),str(navlon_ORCA[ii,jj]),str(navlon_ORCA[ii,jj+1]),'Box_'+str(i),str(i)]\n",
    "    ii = ii + 1\n",
    "    if ii >= int(np.shape(navlon_ORCA)[0])-1:\n",
    "        ii = 0\n",
    "        jj = jj + 1\n",
    "\n",
    "name = Box_arr[:,4]\n",
    "\n",
    "#- defining dictionaries for the boxes\n",
    "class box: # empty container.\n",
    "    def __init__(self,name=None):\n",
    "        self.name = name\n",
    "        return\n",
    "\n",
    "dictboxes = {}\n",
    "\n",
    "for i in np.arange(0,int(a),1):\n",
    "    \n",
    "    y1 = float(Box_arr[i,0]); y2 = float(Box_arr[i,1]);\n",
    "    x2 = float(Box_arr[i,2]); x1 = float(Box_arr[i,3]);\n",
    "    box_name = Box_arr[i,4]\n",
    "    print(box_name)\n",
    "    \n",
    "    navlon,navlat,jmin,jmax,imin,imax = read_datagrid(lat,lon,latmin=y1,latmax=y2,lonmin=x2,lonmax=x1)\n",
    "    \n",
    "    # - save box parameter\n",
    "    abox = box(box_name)\n",
    "    abox.lonmin = navlon.min()\n",
    "    abox.lonmax = navlon.max()\n",
    "    abox.latmin = navlat.min()\n",
    "    abox.latmax = navlat.max()\n",
    "    abox.navlon = navlon\n",
    "    abox.navlat = navlat\n",
    "    abox.imin = imin\n",
    "    abox.imax = imax\n",
    "    abox.jmin = jmin\n",
    "    abox.jmax = jmax\n",
    "    abox.nb = int(Box_arr[i,5])#ibox[5]\n",
    "    dictboxes[box_name] = abox\n",
    "    \n",
    "boxes = dictboxes.values()\n",
    "\n",
    "for box in boxes:\n",
    "    print(box.name,box.imin,box.imax,box.jmin,box.jmax)"
   ]
  },
  {
   "cell_type": "code",
   "execution_count": null,
   "metadata": {},
   "outputs": [],
   "source": [
    "transform = ccrs.PlateCarree()\n",
    "\n",
    "pltargs = {\n",
    "   'transform' : transform,\n",
    "   'color' : 'black',\n",
    "   'linewidth' : 2}\n",
    "\n",
    "def plot_individual_box(box,ax=None):\n",
    "    x1 = box.lonmin\n",
    "    x2 = box.lonmax\n",
    "    y1 = box.latmin\n",
    "    y2 = box.latmax\n",
    "    ax.plot([x1, x2], [y1, y1],**pltargs)\n",
    "    ax.plot([x1, x2], [y2, y2],**pltargs)\n",
    "    ax.plot([x1, x1], [y1, y2],**pltargs)\n",
    "    ax.plot([x2, x2], [y1, y2],**pltargs)\n",
    "    #ax.text(x1+0.1,y1+0.1,box.nb)\n",
    "\n",
    "\n",
    "def plot_boxes(boxlist,textbox=None,title=None):\n",
    "    plt.figure(figsize=(15,10))\n",
    "    proj = transform\n",
    "    ax = plt.axes(projection=proj)\n",
    "    ax.stock_img()\n",
    "    for box in boxlist:\n",
    "        plot_individual_box(box,ax=ax)\n",
    "    ax.coastlines(resolution=\"10m\")\n",
    "\n",
    "    # grid lines\n",
    "    gl = ax.gridlines(draw_labels=True,\n",
    "                  linewidth=1, color='black', alpha=0.2, linestyle='--')\n",
    "\n",
    "    label_style = {'size': 12, 'color': 'black', 'weight': 'bold'}\n",
    "\n",
    "    gl.xlabel_style = label_style\n",
    "    gl.xlabels_bottom = False\n",
    "    gl.xlocator = mticker.FixedLocator(np.arange(-90,10,5,dtype=float))\n",
    "\n",
    "    gl.ylabel_style = label_style\n",
    "    gl.ylabels_right = False\n",
    "    gl.ylocator = mticker.FixedLocator(np.arange(20,80,5,dtype=float))\n",
    "\n",
    "\n",
    "    #ax.grid(False)\n",
    "    plt.xlim((-85,5))\n",
    "    plt.ylim((25,70))\n",
    "    if textbox is not None:\n",
    "        # see http://matplotlib.org/users/annotations_guide.html\n",
    "        props = dict(boxstyle='round', facecolor='white', alpha=1., edgecolor=\"black\", lw=2)\n",
    "        ax.text(0.05, 0.10, textbox, transform=ax.transAxes, fontsize=18,verticalalignment='top',bbox=props)\n",
    "    if title is not None:\n",
    "        plt.title(title,fontsize=20,y=1.08)\n",
    "\n",
    "       \n",
    "plot_boxes(boxes,textbox=None,title=None)\n",
    "plt.savefig('test_map_boxes_1x1_LS.png')"
   ]
  },
  {
   "cell_type": "code",
   "execution_count": null,
   "metadata": {},
   "outputs": [],
   "source": []
  }
 ],
 "metadata": {
  "kernelspec": {
   "display_name": "Python 3",
   "language": "python",
   "name": "python3"
  },
  "language_info": {
   "codemirror_mode": {
    "name": "ipython",
    "version": 3
   },
   "file_extension": ".py",
   "mimetype": "text/x-python",
   "name": "python",
   "nbconvert_exporter": "python",
   "pygments_lexer": "ipython3",
   "version": "3.7.3"
  }
 },
 "nbformat": 4,
 "nbformat_minor": 4
}
